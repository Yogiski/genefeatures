{
 "cells": [
  {
   "cell_type": "code",
   "execution_count": 1,
   "metadata": {},
   "outputs": [
    {
     "data": {
      "text/plain": [
       "['kras_plus_10kb.fa.fai',\n",
       " 'Homo_sapiens.GRCh38.dna.primary_assembly.fa.fai',\n",
       " 'Homo_sapiens.GRCh38.112.gtf',\n",
       " 'hs_grch38_trunc.gtf',\n",
       " 'Homo_sapiens.GRCh38.dna.primary_assembly.fa',\n",
       " 'kras_plus_10kb.fa']"
      ]
     },
     "execution_count": 1,
     "metadata": {},
     "output_type": "execute_result"
    }
   ],
   "source": [
    "import os\n",
    "import pickle\n",
    "os.chdir(\"/Users/yogi/Projects/genefeatures\")\n",
    "import genefeatures.gtf_tools as gt\n",
    "import genefeatures.fasta_tools as ft\n",
    "from genefeatures.sequence_index import SequenceIndex as SI\n",
    "from genefeatures.mutation_handler import MutationHandler as MH\n",
    "from genefeatures.variation_parser import SequenceVariationParser as SVP\n",
    "from Bio.Seq import Seq, reverse_complement\n",
    "\n",
    "\n",
    "os.listdir(\"../references\")"
   ]
  },
  {
   "cell_type": "code",
   "execution_count": 2,
   "metadata": {},
   "outputs": [],
   "source": [
    "gtf = gt.parse_gtf(\"../references/Homo_sapiens.GRCh38.112.gtf\")"
   ]
  },
  {
   "cell_type": "code",
   "execution_count": 4,
   "metadata": {},
   "outputs": [
    {
     "data": {
      "text/plain": [
       "Index(['Chrom', 'Pos', 'Ref', 'Alt', 'AF', 'DP', 'RefCount', 'AltCount', 'GT',\n",
       "       'PS', 'VariantType', 'VariantInfo', 'DNAChange', 'ProteinChange',\n",
       "       'HugoSymbol', 'EnsemblGeneID', 'EnsemblFeatureID', 'HgncName',\n",
       "       'HgncFamily', 'UniprotID', 'DbsnpRsID', 'GcContent', 'LofGeneName',\n",
       "       'LofGeneId', 'LofNumberOfTranscriptsInGene',\n",
       "       'LofPercentOfTranscriptsAffected', 'NMD', 'MolecularConsequence',\n",
       "       'VepImpact', 'VepBiotype', 'VepHgncID', 'VepExistingVariation',\n",
       "       'VepManeSelect', 'VepENSP', 'VepSwissprot', 'Sift', 'Polyphen',\n",
       "       'GnomadeAF', 'GnomadgAF', 'VepClinSig', 'VepSomatic', 'VepPliGeneValue',\n",
       "       'VepLofTool', 'OncogeneHighImpact', 'TumorSuppressorHighImpact',\n",
       "       'TranscriptLikelyLof', 'Brca1FuncScore', 'CivicID', 'CivicDescription',\n",
       "       'CivicScore', 'LikelyLoF', 'HessDriver', 'HessSignature', 'RevelScore',\n",
       "       'PharmgkbId', 'DidaID', 'DidaName', 'GwasDisease', 'GwasPmID',\n",
       "       'GtexGene', 'ProveanPrediction', 'Rescue', 'ModelID', 'EntrezGeneID'],\n",
       "      dtype='object')"
      ]
     },
     "execution_count": 4,
     "metadata": {},
     "output_type": "execute_result"
    }
   ],
   "source": [
    "import pandas as pd\n",
    "dep_mt = pd.read_csv(\"../data/depmap/OmicsSomaticMutations.csv\", low_memory=False)\n",
    "dep_mt.columns"
   ]
  },
  {
   "cell_type": "code",
   "execution_count": 14,
   "metadata": {},
   "outputs": [
    {
     "data": {
      "text/plain": [
       "{('ACH-000001', 'AAAS'): [42836], ('ACH-000001', 'AADACL4'): [1471], ('ACH-000001', 'ADAM10'): [61256], ('ACH-000001', 'ADAM29'): [139666], ('ACH-000001', 'AUH'): [179715], ('ACH-000001', 'BBOX1'): [28997], ('ACH-000001', 'CA1'): [173612], ('ACH-000001', 'CACNA1D'): [125116], ('ACH-000001', 'CCDC182'): [77653], ('ACH-000001', 'CCDC39'): [130676], ('ACH-000001', 'CFAP20DC'): [125409], ('ACH-000001', 'CLIC3'): [183547], ('ACH-000001', 'COPG2'): [167352], ('ACH-000001', 'CPT1B'): [121387], ('ACH-000001', 'DUSP12'): [12357], ('ACH-000001', 'ERVW-1'): [164185], ('ACH-000001', 'F10'): [52148], ('ACH-000001', 'FAM217B'): [115439], ('ACH-000001', 'FANCM'): [54288], ('ACH-000001', 'FBP2'): [179979], ('ACH-000001', 'FCRL5'): [11427], ('ACH-000001', 'FLG2'): [10311], ('ACH-000001', 'FNTA'): [172102], ('ACH-000001', 'FZD1'): [164058], ('ACH-000001', 'GFRA1'): [25020], ('ACH-000001', 'GPR39'): [103607], ('ACH-000001', 'HMGB3'): [190558], ('ACH-000001', 'HMGN5'): [188016], ('ACH-000001', 'KCNH6'): [78270], ('ACH-000001', 'KIR2DL1'): [95539], ('ACH-000001', 'KLHL29'): [97831], ('ACH-000001', 'KRTAP1-1'): [75620], ('ACH-000001', 'LINC02854'): [162545], ('ACH-000001', 'LRRC46'): [76978], ('ACH-000001', 'MMP26'): [27166], ('ACH-000001', 'MT-CYB'): [184388], ('ACH-000001', 'MT-ND1'): [183914], ('ACH-000001', 'MT-ND5'): [184095], ('ACH-000001', 'MTA2'): [31879], ('ACH-000001', 'MUC16'): [85636], ('ACH-000001', 'MUC22'): [151553], ('ACH-000001', 'MUC4'): [132021], ('ACH-000001', 'NEFM'): [171108], ('ACH-000001', 'NEIL1'): [62456], ('ACH-000001', 'NOD1'): [161300], ('ACH-000001', 'OR8G5'): [36980], ('ACH-000001', 'PAX1'): [112689], ('ACH-000001', 'PCDH1'): [147266], ('ACH-000001', 'PCLO'): [163674], ('ACH-000001', 'PIK3R1'): [143048], ('ACH-000001', 'PIP4K2C'): [43768], ('ACH-000001', 'POU3F1'): [4461], ('ACH-000001', 'PPP2R1A'): [94601], ('ACH-000001', 'PRR19'): [91768], ('ACH-000001', 'PTHLH'): [40123], ('ACH-000001', 'PTPN13'): [136403], ('ACH-000001', 'RAPGEF2'): [139219], ('ACH-000001', 'RELT'): [33739], ('ACH-000001', 'REXO1'): [84192], ('ACH-000001', 'ROR2'): [179741], ('ACH-000001', 'RUNX1T1'): [173881], ('ACH-000001', 'SGO2'): [108069], ('ACH-000001', 'SGPL1'): [22275], ('ACH-000001', 'SKOR2'): [82413], ('ACH-000001', 'SP9'): [105926], ('ACH-000001', 'SPTA1'): [11763], ('ACH-000001', 'SRI'): [163932], ('ACH-000001', 'SYT8'): [26857], ('ACH-000001', 'TASL'): [185590], ('ACH-000001', 'TBL1X'): [184754], ('ACH-000001', 'TCERG1L'): [25839], ('ACH-000001', 'TLR1'): [134147], ('ACH-000001', 'TP53'): [72107], ('ACH-000001', 'TRIM32'): [181296], ('ACH-000001', 'TRIP12'): [110320], ('ACH-000001', 'UNC80'): [108824, 108882], ('ACH-000001', 'USP42'): [160195], ('ACH-000001', 'VPS41'): [161713], ('ACH-000001', 'ZNF257'): [88959], ('ACH-000001', 'ZNF600'): [94752], ('ACH-000001', 'ZNF618'): [181081], ('ACH-000002', 'ABCA7'): [399313], ('ACH-000002', 'ABCB6'): [463411], ('ACH-000002', 'ADRB3'): [616805], ('ACH-000002', 'AHDC1'): [199438], ('ACH-000002', 'AMER2'): [309841], ('ACH-000002', 'ARL16'): [389796], ('ACH-000002', 'ARMC12'): [571530], ('ACH-000002', 'ARMC9'): [465605], ('ACH-000002', 'ATG9B'): [611012], ('ACH-000002', 'ATMIN'): [362395], ('ACH-000002', 'BHLHE41'): [289066], ('ACH-000002', 'CAMSAP1'): [645212], ('ACH-000002', 'CCDC150'): [459428], ('ACH-000002', 'CDKN2A'): [631666], ('ACH-000002', 'CELSR2'): [211608], ('ACH-000002', 'CEMIP2'): [634318], ('ACH-000002', 'CPT2'): [205465], ('ACH-000002', 'CSRNP3'): [452913], ('ACH-000002', 'CYP2J2'): [206317], ...}"
      ]
     },
     "execution_count": 14,
     "metadata": {},
     "output_type": "execute_result"
    }
   ],
   "source": [
    "grouped = dep_mt.groupby([\"ModelID\", \"HugoSymbol\"])"
   ]
  },
  {
   "cell_type": "markdown",
   "metadata": {},
   "source": []
  }
 ],
 "metadata": {
  "kernelspec": {
   "display_name": "m2s",
   "language": "python",
   "name": "python3"
  },
  "language_info": {
   "codemirror_mode": {
    "name": "ipython",
    "version": 3
   },
   "file_extension": ".py",
   "mimetype": "text/x-python",
   "name": "python",
   "nbconvert_exporter": "python",
   "pygments_lexer": "ipython3",
   "version": "3.11.5"
  }
 },
 "nbformat": 4,
 "nbformat_minor": 2
}
