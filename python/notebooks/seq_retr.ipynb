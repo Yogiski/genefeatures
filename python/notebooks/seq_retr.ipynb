{
 "cells": [
  {
   "cell_type": "code",
   "execution_count": 3,
   "metadata": {},
   "outputs": [
    {
     "data": {
      "text/plain": [
       "['kras_plus_10kb.fa.fai',\n",
       " 'Homo_sapiens.GRCh38.dna.primary_assembly.fa.fai',\n",
       " 'Homo_sapiens.GRCh38.112.gtf',\n",
       " 'hs_grch38_trunc.gtf',\n",
       " 'Homo_sapiens.GRCh38.dna.primary_assembly.fa',\n",
       " 'kras_plus_10kb.fa',\n",
       " 'test_regions.txt']"
      ]
     },
     "execution_count": 3,
     "metadata": {},
     "output_type": "execute_result"
    }
   ],
   "source": [
    "import os\n",
    "import pandas as pd\n",
    "import pickle\n",
    "import subprocess\n",
    "os.chdir(\"/Users/yogi/Projects/genefeatures/python\")\n",
    "import genefeatures.gtf_tools as gt\n",
    "import genefeatures.fasta_tools as ft\n",
    "from intervaltree import Interval, IntervalTree\n",
    "from genefeatures.sequence_index import SequenceIndex as SI\n",
    "from genefeatures.mutation_handler import MutationHandler as MH\n",
    "from genefeatures.variation_parser import SequenceVariationParser as SVP\n",
    "from Bio.Seq import Seq, reverse_complement\n",
    "\n",
    "\n",
    "os.listdir(\"../../references\")"
   ]
  },
  {
   "cell_type": "code",
   "execution_count": 5,
   "metadata": {},
   "outputs": [
    {
     "name": "stdout",
     "output_type": "stream",
     "text": [
      "CPU times: user 43.4 s, sys: 2.13 s, total: 45.6 s\n",
      "Wall time: 46.4 s\n"
     ]
    }
   ],
   "source": [
    "%%time\n",
    "gtf = gt.parse_gtf(\"../../references/Homo_sapiens.GRCh38.112.gtf\")"
   ]
  },
  {
   "cell_type": "code",
   "execution_count": null,
   "metadata": {},
   "outputs": [],
   "source": [
    "set(gtf.attribute_index.keys())"
   ]
  },
  {
   "cell_type": "code",
   "execution_count": null,
   "metadata": {},
   "outputs": [],
   "source": [
    "set(gtf.feature_index.keys())"
   ]
  },
  {
   "cell_type": "code",
   "execution_count": null,
   "metadata": {},
   "outputs": [],
   "source": [
    "dep_mt = pd.read_csv(\"../data/depmap/OmicsSomaticMutations.csv\", low_memory=False)\n",
    "models = pd.read_csv(\"../data/depmap/OmicsProfiles.csv\")\n",
    "models.head()\n"
   ]
  },
  {
   "cell_type": "code",
   "execution_count": null,
   "metadata": {},
   "outputs": [],
   "source": [
    "rna = pd.read_csv(\n",
    "    \"../data/depmap/OmicsExpressionRNASeQCGeneCountProfile.csv\",\n",
    "    index_col = \"Unnamed: 0\"\n",
    ")\n",
    "rna.head()"
   ]
  },
  {
   "cell_type": "code",
   "execution_count": null,
   "metadata": {},
   "outputs": [],
   "source": [
    "rna_genes = [i.split(\" \")[1].strip(\"()\") for i in rna.columns.to_list()]\n",
    "gtf_genes = gtf.attribute_index[\"gene_id\"].keys()\n",
    "both = list(set(rna_genes).intersection(set(gtf_genes)))"
   ]
  },
  {
   "cell_type": "code",
   "execution_count": null,
   "metadata": {},
   "outputs": [],
   "source": [
    "with open(\"../data/genefeatures/make_gf_fasta_inputs/wild_type.csv\", \"w\") as f:\n",
    "    for i in both:\n",
    "        f.write(f\"{i},,\\n\")\n"
   ]
  },
  {
   "cell_type": "code",
   "execution_count": null,
   "metadata": {},
   "outputs": [],
   "source": [
    "itrees = [\"\"] * len(both)\n",
    "for i, g in enumerate(both):\n",
    "    records = gtf.query({\"attributes\": {\"gene_name\": g}}, return_records = True)\n",
    "    itrees[i] = gt.records_to_interval_tree(records)"
   ]
  },
  {
   "cell_type": "code",
   "execution_count": null,
   "metadata": {},
   "outputs": [],
   "source": [
    "with open(\"../references/test_regions.txt\", \"w\") as f:\n",
    "    for tree in itrees:\n",
    "        f.write(\n",
    "            f\"{list(tree.all_intervals)[0].data['seqname']}:{tree.begin()}-{tree.end()}\\n\"\n",
    "        )"
   ]
  },
  {
   "cell_type": "code",
   "execution_count": null,
   "metadata": {},
   "outputs": [],
   "source": [
    "    \n",
    "command = \"samtools faidx --fai-idx \" \\\n",
    "    \"../references/Homo_sapiens.GRCh38.dna.primary_assembly.fa.fai \" \\\n",
    "    \"../references/Homo_sapiens.GRCh38.dna.primary_assembly.fa \" \\\n",
    "    f\"-r ../references/test_regions.txt\"\n",
    "\n",
    "result = subprocess.run(\n",
    "    command,\n",
    "    shell=True,\n",
    "    capture_output=True,\n",
    "    text=True\n",
    "    )"
   ]
  },
  {
   "cell_type": "code",
   "execution_count": null,
   "metadata": {},
   "outputs": [],
   "source": [
    "canon = gtf.query({\"attributes\": {\"tag\": \"Ensembl_canonical\"}})"
   ]
  },
  {
   "cell_type": "code",
   "execution_count": null,
   "metadata": {},
   "outputs": [],
   "source": [
    "canon[100]"
   ]
  },
  {
   "cell_type": "code",
   "execution_count": 6,
   "metadata": {},
   "outputs": [],
   "source": [
    "foo = gtf.query(\n",
    "        {\"attributes\": {\"gene_id\": [\"ENSG00000133703\", \"ENSG00000141510\"], \"tag\": \"MANE_Select\"}}\n",
    ")"
   ]
  },
  {
   "cell_type": "code",
   "execution_count": 8,
   "metadata": {},
   "outputs": [
    {
     "data": {
      "text/plain": [
       "42"
      ]
     },
     "execution_count": 8,
     "metadata": {},
     "output_type": "execute_result"
    }
   ],
   "source": [
    "len(foo)"
   ]
  },
  {
   "cell_type": "markdown",
   "metadata": {},
   "source": [
    "# gtf edits needed\n",
    "* filter records with no start and end\n",
    "    * remove_empty_fields method already implemented and is not ridiculously slow\n",
    "* skip records where start == end when making interval trees\n",
    "* getting sequences for every gene in transcriptome (36k genes) takes roughly 11 min\n",
    "    * speed up: reduce size of transcriptome - diminishing returns, can really only get to 23k\n",
    "    * keep seqname at top level of whatever's calling extract_sequences to avoid type transformation\n",
    "    * two above are not what makes this slow\n",
    "    * need to call faidx in batch using region file\n",
    "* convert entire gtf to list of GeneFeature or ndarray of GeneFeature\n",
    "* query strings would be nice to have\n",
    "* might need option to skip SeqIndex generation when no mutations are needed\n",
    "* Or for larger workflow make indices in the beginnning and copy/mutate for each model\n",
    "\n",
    "worklow for making wild type fasta\n",
    "1. get list of genes and primary transcripts\n",
    "2. generate data structure that holds primary transcripts/SeqIndex\n",
    "4. read dna sequence for each and write to fasta\n",
    "\n"
   ]
  }
 ],
 "metadata": {
  "kernelspec": {
   "display_name": "Python 3 (ipykernel)",
   "language": "python",
   "name": "python3"
  },
  "language_info": {
   "codemirror_mode": {
    "name": "ipython",
    "version": 3
   },
   "file_extension": ".py",
   "mimetype": "text/x-python",
   "name": "python",
   "nbconvert_exporter": "python",
   "pygments_lexer": "ipython3",
   "version": "3.12.4"
  }
 },
 "nbformat": 4,
 "nbformat_minor": 4
}
